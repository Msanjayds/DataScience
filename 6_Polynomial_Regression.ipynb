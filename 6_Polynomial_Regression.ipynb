{
  "nbformat": 4,
  "nbformat_minor": 0,
  "metadata": {
    "colab": {
      "name": "6. Polynomial Regression.ipynb",
      "provenance": [],
      "collapsed_sections": [],
      "machine_shape": "hm"
    },
    "kernelspec": {
      "name": "python3",
      "display_name": "Python 3"
    }
  },
  "cells": [
    {
      "cell_type": "markdown",
      "metadata": {
        "id": "75k8cbF6pVbq",
        "colab_type": "text"
      },
      "source": [
        "### Polynomial Regression:\n",
        "\n",
        "It is used to fit a regression model to a non linear data. visualize the non linear relationship and try to fit a polnomial function. \n"
      ]
    },
    {
      "cell_type": "code",
      "metadata": {
        "id": "72A0510GJ01X",
        "colab_type": "code",
        "colab": {}
      },
      "source": [
        "import warnings\n",
        "warnings.simplefilter(action='ignore', category=FutureWarning)\n",
        "warnings.simplefilter(action='ignore', category=Warning)\n",
        "\n",
        "import pandas as pd\n",
        "import numpy as np\n",
        "\n",
        "import seaborn as sns\n",
        "import matplotlib.pyplot as plt\n",
        "\n",
        "%matplotlib inline"
      ],
      "execution_count": 0,
      "outputs": []
    },
    {
      "cell_type": "code",
      "metadata": {
        "id": "uSmU4UqYKR9G",
        "colab_type": "code",
        "outputId": "7d5f0141-110a-4555-f308-60864452fdb0",
        "colab": {
          "base_uri": "https://localhost:8080/",
          "height": 211
        }
      },
      "source": [
        "\n",
        "loan_df = pd.read_csv('https://raw.githubusercontent.com/Msanjayds/DataScience_Concepts_and_Other_Useful_Resources/master/Datasets/loan_analysis_summary.csv')\n",
        "loan_df.head()"
      ],
      "execution_count": 4,
      "outputs": [
        {
          "output_type": "execute_result",
          "data": {
            "text/html": [
              "<div>\n",
              "<style scoped>\n",
              "    .dataframe tbody tr th:only-of-type {\n",
              "        vertical-align: middle;\n",
              "    }\n",
              "\n",
              "    .dataframe tbody tr th {\n",
              "        vertical-align: top;\n",
              "    }\n",
              "\n",
              "    .dataframe thead th {\n",
              "        text-align: right;\n",
              "    }\n",
              "</style>\n",
              "<table border=\"1\" class=\"dataframe\">\n",
              "  <thead>\n",
              "    <tr style=\"text-align: right;\">\n",
              "      <th></th>\n",
              "      <th>fico_score</th>\n",
              "      <th>loan_total</th>\n",
              "      <th>default_total</th>\n",
              "      <th>dti</th>\n",
              "      <th>avg_loan_amnt</th>\n",
              "      <th>median_annual_inc</th>\n",
              "      <th>avg_annual_inc</th>\n",
              "      <th>int_rate</th>\n",
              "      <th>default_rate</th>\n",
              "      <th>actual_default_rate</th>\n",
              "    </tr>\n",
              "  </thead>\n",
              "  <tbody>\n",
              "    <tr>\n",
              "      <th>0</th>\n",
              "      <td>500</td>\n",
              "      <td>3585</td>\n",
              "      <td>3183</td>\n",
              "      <td>19.737013</td>\n",
              "      <td>13660.71827</td>\n",
              "      <td>55000</td>\n",
              "      <td>63396.10292</td>\n",
              "      <td>15.352285</td>\n",
              "      <td>2.463470</td>\n",
              "      <td>0.520266</td>\n",
              "    </tr>\n",
              "    <tr>\n",
              "      <th>1</th>\n",
              "      <td>510</td>\n",
              "      <td>8223</td>\n",
              "      <td>7191</td>\n",
              "      <td>19.747810</td>\n",
              "      <td>13889.67226</td>\n",
              "      <td>56000</td>\n",
              "      <td>65446.52263</td>\n",
              "      <td>15.440212</td>\n",
              "      <td>5.565445</td>\n",
              "      <td>1.175378</td>\n",
              "    </tr>\n",
              "    <tr>\n",
              "      <th>2</th>\n",
              "      <td>520</td>\n",
              "      <td>9792</td>\n",
              "      <td>8370</td>\n",
              "      <td>20.085761</td>\n",
              "      <td>14186.13920</td>\n",
              "      <td>58728</td>\n",
              "      <td>68261.38708</td>\n",
              "      <td>15.312451</td>\n",
              "      <td>6.477927</td>\n",
              "      <td>1.368087</td>\n",
              "    </tr>\n",
              "    <tr>\n",
              "      <th>3</th>\n",
              "      <td>530</td>\n",
              "      <td>10984</td>\n",
              "      <td>9254</td>\n",
              "      <td>20.253199</td>\n",
              "      <td>14487.00838</td>\n",
              "      <td>60000</td>\n",
              "      <td>69041.52340</td>\n",
              "      <td>15.449011</td>\n",
              "      <td>7.162095</td>\n",
              "      <td>1.512578</td>\n",
              "    </tr>\n",
              "    <tr>\n",
              "      <th>4</th>\n",
              "      <td>540</td>\n",
              "      <td>12333</td>\n",
              "      <td>10127</td>\n",
              "      <td>20.770446</td>\n",
              "      <td>14756.36706</td>\n",
              "      <td>60000</td>\n",
              "      <td>69948.95243</td>\n",
              "      <td>15.271022</td>\n",
              "      <td>7.837750</td>\n",
              "      <td>1.655271</td>\n",
              "    </tr>\n",
              "  </tbody>\n",
              "</table>\n",
              "</div>"
            ],
            "text/plain": [
              "   fico_score  loan_total  ...  default_rate  actual_default_rate\n",
              "0         500        3585  ...      2.463470             0.520266\n",
              "1         510        8223  ...      5.565445             1.175378\n",
              "2         520        9792  ...      6.477927             1.368087\n",
              "3         530       10984  ...      7.162095             1.512578\n",
              "4         540       12333  ...      7.837750             1.655271\n",
              "\n",
              "[5 rows x 10 columns]"
            ]
          },
          "metadata": {
            "tags": []
          },
          "execution_count": 4
        }
      ]
    },
    {
      "cell_type": "markdown",
      "metadata": {
        "id": "04QHf1SgGt7-",
        "colab_type": "text"
      },
      "source": [
        "### What we can see is the cusomers with better income score will have lower dti (debt to income ratio) and we could see very less correction or almost no correlation since it is nearer to zero between fico_score and loan_total.For ordinal data spearman coeffecient is better. Ficoscore is considered as ordinal here.\n"
      ]
    },
    {
      "cell_type": "code",
      "metadata": {
        "id": "YeaJsTXHLCOI",
        "colab_type": "code",
        "colab": {
          "base_uri": "https://localhost:8080/",
          "height": 105
        },
        "outputId": "e862f2cd-6ea0-48db-dfdd-be1f0efe6f9b"
      },
      "source": [
        "loan_df[['fico_score','loan_total']].corr('spearman')"
      ],
      "execution_count": 5,
      "outputs": [
        {
          "output_type": "execute_result",
          "data": {
            "text/html": [
              "<div>\n",
              "<style scoped>\n",
              "    .dataframe tbody tr th:only-of-type {\n",
              "        vertical-align: middle;\n",
              "    }\n",
              "\n",
              "    .dataframe tbody tr th {\n",
              "        vertical-align: top;\n",
              "    }\n",
              "\n",
              "    .dataframe thead th {\n",
              "        text-align: right;\n",
              "    }\n",
              "</style>\n",
              "<table border=\"1\" class=\"dataframe\">\n",
              "  <thead>\n",
              "    <tr style=\"text-align: right;\">\n",
              "      <th></th>\n",
              "      <th>fico_score</th>\n",
              "      <th>loan_total</th>\n",
              "    </tr>\n",
              "  </thead>\n",
              "  <tbody>\n",
              "    <tr>\n",
              "      <th>fico_score</th>\n",
              "      <td>1.000000</td>\n",
              "      <td>0.043243</td>\n",
              "    </tr>\n",
              "    <tr>\n",
              "      <th>loan_total</th>\n",
              "      <td>0.043243</td>\n",
              "      <td>1.000000</td>\n",
              "    </tr>\n",
              "  </tbody>\n",
              "</table>\n",
              "</div>"
            ],
            "text/plain": [
              "            fico_score  loan_total\n",
              "fico_score    1.000000    0.043243\n",
              "loan_total    0.043243    1.000000"
            ]
          },
          "metadata": {
            "tags": []
          },
          "execution_count": 5
        }
      ]
    },
    {
      "cell_type": "markdown",
      "metadata": {
        "id": "XxzxjB7un6_V",
        "colab_type": "text"
      },
      "source": [
        "# we can see that the ouput is completely non linear, that is why the corr coeff is zero. Hypothetically we can model it using the polynomial regression. It allows for a linear combination of input variables and those input variables will be raised to varying degrees. we are going to create multiple others vars like x2, x3 etc depends on the number of curves in the map.\n",
        "\n"
      ]
    },
    {
      "cell_type": "code",
      "metadata": {
        "id": "m0dmGkmrjKJW",
        "colab_type": "code",
        "outputId": "732b7639-00fe-48cc-9185-1de39e222273",
        "colab": {
          "base_uri": "https://localhost:8080/",
          "height": 296
        }
      },
      "source": [
        "sns.regplot(x='fico_score', y='loan_total', data=loan_df)"
      ],
      "execution_count": 6,
      "outputs": [
        {
          "output_type": "execute_result",
          "data": {
            "text/plain": [
              "<matplotlib.axes._subplots.AxesSubplot at 0x7faa625d32b0>"
            ]
          },
          "metadata": {
            "tags": []
          },
          "execution_count": 6
        },
        {
          "output_type": "display_data",
          "data": {
            "image/png": "[encoded data removed]",
            "text/plain": [
              "<Figure size 432x288 with 1 Axes>"
            ]
          },
          "metadata": {
            "tags": [],
            "needs_background": "light"
          }
        }
      ]
    },
    {
      "cell_type": "markdown",
      "metadata": {
        "id": "Heq4c6orpbnG",
        "colab_type": "text"
      },
      "source": [
        "# we used plynombial function from the numpy and tryied  and degree of polynomial as 5, becuase we have 4 bends above and we need to add 1 to it and fit. We can see that it tried to fit the model closely. "
      ]
    },
    {
      "cell_type": "code",
      "metadata": {
        "id": "slow4tO9lmyd",
        "colab_type": "code",
        "outputId": "6d1f2e0e-3b98-4f18-f7ab-ef9b8a312cf6",
        "colab": {
          "base_uri": "https://localhost:8080/",
          "height": 265
        }
      },
      "source": [
        "coeff = np.poly1d(np.polyfit(loan_df['fico_score'],loan_df['loan_total'],5))\n",
        "\n",
        "t = loan_df['fico_score']\n",
        "\n",
        "plt.plot(loan_df['fico_score'], loan_df['loan_total'], 'o', t, coeff(t), '-')\n",
        "plt.show()"
      ],
      "execution_count": 7,
      "outputs": [
        {
          "output_type": "display_data",
          "data": {
            "image/png": "[encoded data removed]",
            "text/plain": [
              "<Figure size 432x288 with 1 Axes>"
            ]
          },
          "metadata": {
            "tags": [],
            "needs_background": "light"
          }
        }
      ]
    },
    {
      "cell_type": "markdown",
      "metadata": {
        "id": "7HCAVHo6p9GU",
        "colab_type": "text"
      },
      "source": [
        "# a polynomial function might ovefit , we should have seperate testing and validation set to validate it. A polynomial regression moldels a relationship between the independent variable and the dependent variable as an nth degree polynomial, in our case it is 5 degree polynomial and below are the coefficients."
      ]
    },
    {
      "cell_type": "code",
      "metadata": {
        "id": "FE5wH_8HpN0N",
        "colab_type": "code",
        "outputId": "423b8061-38c4-41f8-8ad2-c47b71a61272",
        "colab": {
          "base_uri": "https://localhost:8080/",
          "height": 50
        }
      },
      "source": [
        "coeff"
      ],
      "execution_count": 8,
      "outputs": [
        {
          "output_type": "execute_result",
          "data": {
            "text/plain": [
              "poly1d([ 6.00037793e-07, -1.99259784e-03,  2.61951319e+00, -1.70446336e+03,\n",
              "        5.49180402e+05, -7.01232540e+07])"
            ]
          },
          "metadata": {
            "tags": []
          },
          "execution_count": 8
        }
      ]
    },
    {
      "cell_type": "markdown",
      "metadata": {
        "id": "Uo03HQBAGyr4",
        "colab_type": "text"
      },
      "source": [
        "#Lets correlate Debt to incoe ratio and Loan total and it shows that there is no correlation as the corr_coeff is close to zero.\n"
      ]
    },
    {
      "cell_type": "code",
      "metadata": {
        "id": "E4SSoMIAnC47",
        "colab_type": "code",
        "colab": {
          "base_uri": "https://localhost:8080/",
          "height": 105
        },
        "outputId": "0d1f8f28-617a-445a-9f0f-9996290f9567"
      },
      "source": [
        "loan_df[['dti','loan_total']].corr('spearman')"
      ],
      "execution_count": 11,
      "outputs": [
        {
          "output_type": "execute_result",
          "data": {
            "text/html": [
              "<div>\n",
              "<style scoped>\n",
              "    .dataframe tbody tr th:only-of-type {\n",
              "        vertical-align: middle;\n",
              "    }\n",
              "\n",
              "    .dataframe tbody tr th {\n",
              "        vertical-align: top;\n",
              "    }\n",
              "\n",
              "    .dataframe thead th {\n",
              "        text-align: right;\n",
              "    }\n",
              "</style>\n",
              "<table border=\"1\" class=\"dataframe\">\n",
              "  <thead>\n",
              "    <tr style=\"text-align: right;\">\n",
              "      <th></th>\n",
              "      <th>dti</th>\n",
              "      <th>loan_total</th>\n",
              "    </tr>\n",
              "  </thead>\n",
              "  <tbody>\n",
              "    <tr>\n",
              "      <th>dti</th>\n",
              "      <td>1.000000</td>\n",
              "      <td>0.029344</td>\n",
              "    </tr>\n",
              "    <tr>\n",
              "      <th>loan_total</th>\n",
              "      <td>0.029344</td>\n",
              "      <td>1.000000</td>\n",
              "    </tr>\n",
              "  </tbody>\n",
              "</table>\n",
              "</div>"
            ],
            "text/plain": [
              "                 dti  loan_total\n",
              "dti         1.000000    0.029344\n",
              "loan_total  0.029344    1.000000"
            ]
          },
          "metadata": {
            "tags": []
          },
          "execution_count": 11
        }
      ]
    },
    {
      "cell_type": "code",
      "metadata": {
        "id": "eEcUG5JsoNZS",
        "colab_type": "code",
        "colab": {}
      },
      "source": [
        "loan_int_df['last_fico_range_low'].value_counts().sort_index()"
      ],
      "execution_count": 0,
      "outputs": []
    },
    {
      "cell_type": "code",
      "metadata": {
        "id": "lBRgBKF0umQW",
        "colab_type": "code",
        "colab": {
          "base_uri": "https://localhost:8080/",
          "height": 295
        },
        "outputId": "36c32341-9542-4d38-b02c-76693bced260"
      },
      "source": [
        "\n",
        "sns.regplot(x='dti', y='loan_total', data=loan_df)"
      ],
      "execution_count": 12,
      "outputs": [
        {
          "output_type": "execute_result",
          "data": {
            "text/plain": [
              "<matplotlib.axes._subplots.AxesSubplot at 0x7faa5e8625f8>"
            ]
          },
          "metadata": {
            "tags": []
          },
          "execution_count": 12
        },
        {
          "output_type": "display_data",
          "data": {
            "image/png": "[encoded data removed]",
            "text/plain": [
              "<Figure size 432x288 with 1 Axes>"
            ]
          },
          "metadata": {
            "tags": [],
            "needs_background": "light"
          }
        }
      ]
    },
    {
      "cell_type": "markdown",
      "metadata": {
        "id": "cs4yHy0vgDlg",
        "colab_type": "text"
      },
      "source": [
        "### As we can see above i tried to fit a straight line, we could see that the data is completely random at the end (it is a noice in the data). Lets try to fit a polynomial regression using a scikit learn polynomialfeature."
      ]
    },
    {
      "cell_type": "code",
      "metadata": {
        "id": "V4fAMuLkglm7",
        "colab_type": "code",
        "colab": {}
      },
      "source": [
        "from sklearn.preprocesing import PolynomialFeatures\n",
        "from sklearn.linear_model import LinearRegression"
      ],
      "execution_count": 0,
      "outputs": []
    },
    {
      "cell_type": "code",
      "metadata": {
        "id": "M6M8tGPrgtlX",
        "colab_type": "code",
        "colab": {}
      },
      "source": [
        "polynomial_features = PolynomialFeatures(degree=4)\n",
        "x_poly = polynomial_features.fit_transform(loan_df[['dti']])"
      ],
      "execution_count": 0,
      "outputs": []
    },
    {
      "cell_type": "code",
      "metadata": {
        "id": "Jz92WZCDhHuF",
        "colab_type": "code",
        "colab": {}
      },
      "source": [
        ""
      ],
      "execution_count": 0,
      "outputs": []
    }
  ]
}